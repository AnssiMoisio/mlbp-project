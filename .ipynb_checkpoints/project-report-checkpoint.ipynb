{
 "cells": [
  {
   "cell_type": "markdown",
   "metadata": {},
   "source": [
    "**Machine Learning Basic Principles 2018 - Data Analysis Project Report**"
   ]
  },
  {
   "cell_type": "markdown",
   "metadata": {},
   "source": [
    "# *Using neural networks for music classification* "
   ]
  },
  {
   "cell_type": "markdown",
   "metadata": {},
   "source": [
    "## Abstract"
   ]
  },
  {
   "cell_type": "markdown",
   "metadata": {},
   "source": [
    "This project implements a deep neural network model using Keras. We wanted to find out how well a neural network performs on high-dimensional data with minimal tuning. The same classifier was used for both accuracy and logarithmic loss."
   ]
  },
  {
   "cell_type": "markdown",
   "metadata": {},
   "source": [
    "## 1. Introduction"
   ]
  },
  {
   "cell_type": "markdown",
   "metadata": {},
   "source": [
    "*Background, problem statement, motivation, many references, description of\n",
    "contents. Introduces the reader to the topic and the broad context within which your\n",
    "research/project fits*\n",
    "\n",
    "*- What do you hope to learn from the project?*\n",
    "*- What question is being addressed?*\n",
    "*- Why is this task important? (motivation)*\n",
    "\n",
    "*Keep it short (half to 1 page).*\n",
    "\n",
    "Building a classifier nowadays is easier than ever, though building a good classifier is still a hard task despite the high availability of efficient tools created for this purpose. We wanted to investigate the performance of a minimally-tuned neural network in classification using out-of-the-box libraries. We chose Keras because of its popularity and documentation availability.\n",
    "\n",
    "The data usually has many problems some of which cannot be known beforehand. Preprocessing and visualisation are necessary for building a proper model. However, data analysis is already quite ubiquitous and the need for better tools is ever-growing. Some people, who would benefit from machine learning and data analysis, might not even be aware of the current progress of the field nor the tools at all. If these people were made aware of the field it will overall benefit the society we live in. To this day, it still requires a data scientist/engineer to build the models because of the various bottlenecks present in data science. \n",
    "\n",
    "\n"
   ]
  },
  {
   "cell_type": "markdown",
   "metadata": {},
   "source": [
    "## 2. Data analysis"
   ]
  },
  {
   "cell_type": "markdown",
   "metadata": {},
   "source": [
    "*Briefly describe data (class distribution, dimensionality) and how will it affect\n",
    "classification. Visualize the data. Don’t focus too much on the meaning of the features,\n",
    "unless you want to.*\n",
    "\n",
    "*- Include histograms showing class distribution.*\n",
    "\n",
    "The supplied data contains 4363 labeled samples and 6544 unlabeled sample vectors. Every sample is a vector of length 264 which is composed of preprocessed properties of the original time-series data. There are 10 labels and the class distribution is unbalanced; almost half of the labeled samples have the same label which could lead to problems in classification. For example, we don't want the classifier to learn the class distribution of the training set because the class distribution might be completely different for the evaluation set. Some of the fields in the data contain almost identical values for the whole dataset which means these features cannot be used to differentiate samples. Some of the features may also be redundant and contribute nothing while having high variance amongst the dataset. "
   ]
  },
  {
   "cell_type": "code",
   "execution_count": 2,
   "metadata": {},
   "outputs": [],
   "source": [
    "# Import libraries\n",
    "import pandas as pd\n",
    "import numpy as np\n",
    "from matplotlib import pyplot as plt"
   ]
  },
  {
   "cell_type": "markdown",
   "metadata": {},
   "source": [
    "The data can be loaded by creating a Preprocessor object:"
   ]
  },
  {
   "cell_type": "code",
   "execution_count": 19,
   "metadata": {},
   "outputs": [],
   "source": [
    "dl = Preprocessor(balance=False, scale=False)\n",
    "x_train, y_train, x_test, y_test = dl.divided_data(ratio=1, load_bal_data=False)"
   ]
  },
  {
   "cell_type": "markdown",
   "metadata": {},
   "source": [
    "Plot the label distribution of the training data:"
   ]
  },
  {
   "cell_type": "code",
   "execution_count": 20,
   "metadata": {},
   "outputs": [
    {
     "data": {
      "image/png": "[encoded data removed]",
      "text/plain": [
       "<Figure size 720x576 with 1 Axes>"
      ]
     },
     "metadata": {
      "needs_background": "light"
     },
     "output_type": "display_data"
    }
   ],
   "source": [
    "# plot label distribution in training data\n",
    "plt.figure(1, figsize=(10, 8))\n",
    "plt.hist(y_train, range=(0.5,10.5), bins=10, ec='black')\n",
    "plt.show()"
   ]
  },
  {
   "cell_type": "markdown",
   "metadata": {},
   "source": [
    "Here the class imbalance can be seen clearly."
   ]
  },
  {
   "cell_type": "code",
   "execution_count": null,
   "metadata": {},
   "outputs": [],
   "source": []
  },
  {
   "cell_type": "markdown",
   "metadata": {},
   "source": [
    "## 3. Methods and experiments"
   ]
  },
  {
   "cell_type": "markdown",
   "metadata": {},
   "source": [
    "*- Explain your whole approach (you can include a block diagram showing the steps in your process).* \n",
    "\n",
    "*- What methods/algorithms, why were the methods chosen. *\n",
    "\n",
    "*- What evaluation methodology (cross CV, etc.).*\n",
    "\n"
   ]
  },
  {
   "cell_type": "code",
   "execution_count": 4,
   "metadata": {
    "collapsed": true
   },
   "outputs": [],
   "source": [
    "# Trials with ML algorithms"
   ]
  },
  {
   "cell_type": "markdown",
   "metadata": {},
   "source": [
    "## 4. Results"
   ]
  },
  {
   "cell_type": "markdown",
   "metadata": {},
   "source": [
    "*Summarize the results of the experiments without discussing their implications.*\n",
    "\n",
    "*- Include both performance measures (accuracy and LogLoss).*\n",
    "\n",
    "*- How does it perform on kaggle compared to the train data.*\n",
    "\n",
    "*- Include a confusion matrix.*\n",
    "\n"
   ]
  },
  {
   "cell_type": "code",
   "execution_count": 5,
   "metadata": {
    "collapsed": true
   },
   "outputs": [],
   "source": [
    "#Confusion matrix ..."
   ]
  },
  {
   "cell_type": "markdown",
   "metadata": {},
   "source": [
    "## 5. Discussion/Conclusions"
   ]
  },
  {
   "cell_type": "markdown",
   "metadata": {},
   "source": [
    "*Interpret and explain your results *\n",
    "\n",
    "*- Discuss the relevance of the performance measures (accuracy and LogLoss) for\n",
    "imbalanced multiclass datasets. *\n",
    "\n",
    "*- How the results relate to the literature. *\n",
    "\n",
    "*- Suggestions for future research/improvement. *\n",
    "\n",
    "*- Did the study answer your questions? *\n",
    "\n"
   ]
  },
  {
   "cell_type": "markdown",
   "metadata": {},
   "source": [
    "## 6. References"
   ]
  },
  {
   "cell_type": "markdown",
   "metadata": {},
   "source": [
    "*List of all the references cited in the document*"
   ]
  },
  {
   "cell_type": "markdown",
   "metadata": {},
   "source": [
    "## Appendix\n",
    "*Any additional material needed to complete the report can be included here. For example, if you want to keep  additional source code, additional images or plots, mathematical derivations, etc. The content should be relevant to the report and should help explain or visualize something mentioned earlier. **You can remove the whole Appendix section if there is no need for it.** *"
   ]
  },
  {
   "cell_type": "code",
   "execution_count": 4,
   "metadata": {},
   "outputs": [],
   "source": [
    "import pandas as pd\n",
    "import numpy as np\n",
    "from sklearn.preprocessing import MinMaxScaler, normalize\n",
    "from sklearn import preprocessing\n",
    "\n",
    "class Preprocessor:\n",
    "\n",
    "\tdef __init__(self, path='data/', balance=True, mutation_rate=5e-2, scale=True):\n",
    "\t\tself.balance \t\t = balance\n",
    "\t\tself.scale \t\t\t = scale\n",
    "\t\tself.mutation_rate \t = mutation_rate\n",
    "\t\tself.data_path \t\t = path\n",
    "\t\tself.raw_data_labels = pd.read_csv(self.data_path + 'train_labels.csv', header=None)\n",
    "\t\tself.unique_labels\t = np.unique(self.raw_data_labels)\n",
    "\t\tself.raw_data \t\t = self.load_raw_data('train_data.csv')\n",
    "\t\tself.test_data\t\t = self.load_raw_data('test_data.csv')\n",
    "\n",
    "\tdef load_raw_data(self, file):\n",
    "\t\tdata = pd.read_csv(self.data_path + file, header=None).values\n",
    "\t\tif self.scale:\n",
    "\t\t\tdata = preprocessing.scale(data)\n",
    "\t\treturn data\n",
    "\n",
    "\tdef balance_raw_data(self, data, labels, save_bal_data, bal_data_path):\n",
    "\t\tdistribution = {}\n",
    "\t\traw = np.hstack((labels, data))\n",
    "\t\tfor label in self.unique_labels:\n",
    "\t\t\tdistribution[int(label)] = 0\n",
    "\t\tfor label in labels:\n",
    "\t\t\tdistribution[int(label)] += 1\n",
    "\t\tdistmax = distribution[max(distribution, key=distribution.get)]\n",
    "\t\tamount = 0\n",
    "\t\tfor key in distribution:\n",
    "\t\t\tamount += distmax - distribution[key]\n",
    "\t\tcount = 0\n",
    "\t\ttmp = np.empty((0, 265))\n",
    "\t\tfor label in self.unique_labels:\n",
    "\t\t\tauxiliary_rows = raw[raw[:, 0] == label]\n",
    "\t\t\tfor _ in range(distmax - distribution[label]):\n",
    "\t\t\t\tto_add = auxiliary_rows[np.random.randint(auxiliary_rows.shape[0])]\n",
    "\t\t\t\tfor elem in range(to_add.shape[0] - 1):\n",
    "\t\t\t\t\trnd = np.random.uniform(1 - self.mutation_rate, 1 + self.mutation_rate)\n",
    "\t\t\t\t\tto_add[elem + 1] *= rnd\n",
    "\t\t\t\tcount += 1\n",
    "\t\t\t\tif count % 1000 == 0:\n",
    "\t\t\t\t\tprint(\"Processed count: \", count, \"/\", amount)\n",
    "\t\t\t\ttmp = np.append(tmp, [to_add], axis=0)\n",
    "\t\traw = np.vstack((raw, tmp))\n",
    "\t\t# optionally saves the data\n",
    "\t\t# boolean save_bal_data and save path is given to class method 'divided_data()'\n",
    "\t\tif save_bal_data:\n",
    "\t\t\tpd.DataFrame(raw).to_csv(bal_data_path)\n",
    "\t\tnew_labels = raw[:, :1]\n",
    "\t\tnew_features = raw[:, 1:]\n",
    "\t\treturn new_features, new_labels\n",
    "\n",
    "\tdef label_filter(self, row, label: int):\n",
    "\t\t#print(int(row[0])\n",
    "\t\treturn row[0] == label\n",
    "\n",
    "\t# loads all feature vectors from training data and validation data for unsupervised learning\n",
    "\t# shape: (num_of_vectors, 264)\n",
    "\tdef all_feature_vectors(self):\n",
    "\t\tpass\n",
    "\n",
    "\t# transforms the label data to vectors, for example: 2 => (0, 1, 0, 0, 0, 0, 0, 0, 0, 0)\n",
    "\t# shape: \n",
    "\tdef transformed_labels(self, data):\n",
    "\t\tunique_labels = np.unique(self.raw_data_labels)\n",
    "\t\tlabels = np.zeros((data.shape[0], unique_labels.shape[0]))\n",
    "\t\tfor i in range(data.shape[0]):\n",
    "\t\t\tlabels[i][int(data[i]) - 1] = 1\n",
    "\t\tassert labels.shape == (data.shape[0], unique_labels.shape[0])\n",
    "\t\treturn labels\n",
    "\n",
    "\t# normalises columns to [0.0, 1.0]\n",
    "\tdef normalize_data(self, data):\n",
    "\t\ttransformed = data\n",
    "\t\tprint(type(data))\n",
    "\t\treturn transformed\n",
    "\n",
    "\t# divides training data according to ratio for training purposes: (training_data, training_labels), (testing_data, testing_labels)\n",
    "\t# shape: (ratio*4263, col), ((1 - ratio)*4363, col)\n",
    "\t# loads preprocessed data from file or preprocesses the data and optionally saves to file\n",
    "\tdef divided_data(self, ratio=0.5, bal_data_path=None, load_bal_data=True, save_bal_data=False):\n",
    "\t\t# path to balanced data file is used for both loading and saving the file\n",
    "\t\tif not bal_data_path:\n",
    "\t\t\t# appends ratio in percentages to file name\n",
    "\t\t\tbal_data_path = self.data_path + 'bal_data_ratio_' + str(int(100*ratio)) + '.csv'\n",
    "\n",
    "\t\traw = np.hstack((self.raw_data_labels, self.raw_data))\n",
    "\t\tnp.random.shuffle(raw)\n",
    "\t\tnum = int(ratio * raw.shape[0])\n",
    "\t\ttraining_data = raw[:num, 1:]\n",
    "\t\ttraining_labels = raw[:num, :1]\n",
    "\n",
    "\t\t# balance the data\n",
    "\t\tif (self.balance and not load_bal_data):\n",
    "\t\t\ttraining_data, training_labels = self.balance_raw_data(training_data, training_labels, save_bal_data, bal_data_path)\n",
    "\n",
    "\t\t# use old balanced data file\n",
    "\t\tif (self.balance and load_bal_data):\n",
    "\t\t\traw = pd.read_csv(bal_data_path, header=None).values\n",
    "\t\t\t# pandas puts headers as first column and row\n",
    "\t\t\ttraining_labels = raw[1:, 1:2]\n",
    "\t\t\ttraining_data = raw[1:, 2:]\n",
    "\n",
    "\t\ttesting_data = raw[num:, 1:]\n",
    "\t\ttesting_labels = raw[num:, :1]\n",
    "\t\treturn training_data, training_labels, testing_data, testing_labels\n",
    "\n",
    "\t# returns columns (1-168)\n",
    "\t# shape: (row, 168)\n",
    "\tdef get_rhythm_patterns(self, data):\n",
    "\t\treturn data[:,0:168]\n",
    "\n",
    "\t# return columns (169-216)\n",
    "\t# shape: (row, 48)\n",
    "\tdef get_chroma(self, data):\n",
    "\t\treturn data[:,168:216]\n",
    "\n",
    "\t# return columns 217-264\n",
    "\t# shape: (row, 48)\n",
    "\tdef get_mfcc(self, data):\n",
    "\t\treturn data[:,216:]\n"
   ]
  }
 ],
 "metadata": {
  "kernelspec": {
   "display_name": "Python 3",
   "language": "python",
   "name": "python3"
  },
  "language_info": {
   "codemirror_mode": {
    "name": "ipython",
    "version": 3
   },
   "file_extension": ".py",
   "mimetype": "text/x-python",
   "name": "python",
   "nbconvert_exporter": "python",
   "pygments_lexer": "ipython3",
   "version": "3.6.6"
  }
 },
 "nbformat": 4,
 "nbformat_minor": 2
}
